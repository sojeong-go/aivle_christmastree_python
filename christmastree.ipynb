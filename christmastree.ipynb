{
  "nbformat": 4,
  "nbformat_minor": 0,
  "metadata": {
    "colab": {
      "name": "Untitled5.ipynb",
      "provenance": []
    },
    "kernelspec": {
      "name": "python3",
      "display_name": "Python 3"
    },
    "language_info": {
      "name": "python"
    }
  },
  "cells": [
    {
      "cell_type": "code",
      "source": [
        "#트리 꼭대기\n",
        "print(' '*6+\"@\")\n",
        "\n",
        "#트리 몸통\n",
        "k = 1\n",
        "for i in range(3):\n",
        "  for j in range(1,6,2):\n",
        "    print(' '*(7-i-k) + '*'*(j+i*2))\n",
        "    k += 1\n",
        "  k=1   #k값 초기화\n",
        "\n",
        "#트리 나무\n",
        "print(\" \"*5 + \"|||\")\n",
        "print(\" \"*5 + \"|||\")\n",
        "\n",
        "#트리 화분\n",
        "for x in range(0,6,2):\n",
        "  print(' '*(x//2)+\"=\"*(13-x))\n",
        "\n",
        "print(\" \"*13 + '✨Jeolla SoJeong✨')"
      ],
      "metadata": {
        "colab": {
          "base_uri": "https://localhost:8080/"
        },
        "id": "Y5X4ZiqeOFWF",
        "outputId": "72d54629-126f-4ea3-a476-130f499b5d3f"
      },
      "execution_count": 91,
      "outputs": [
        {
          "output_type": "stream",
          "name": "stdout",
          "text": [
            "      @\n",
            "      *\n",
            "     ***\n",
            "    *****\n",
            "     ***\n",
            "    *****\n",
            "   *******\n",
            "    *****\n",
            "   *******\n",
            "  *********\n",
            "     |||\n",
            "     |||\n",
            "=============\n",
            " ===========\n",
            "  =========\n",
            "             ✨Jeolla SoJeong✨\n"
          ]
        }
      ]
    }
  ]
}